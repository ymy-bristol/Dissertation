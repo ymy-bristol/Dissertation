{
 "cells": [
  {
   "cell_type": "code",
   "execution_count": 29,
   "metadata": {},
   "outputs": [],
   "source": [
    "import numpy as np\n",
    "import pandas as pd\n",
    "import matplotlib.pyplot as plt\n",
    "import sklearn\n",
    "from sklearn import decomposition"
   ]
  },
  {
   "cell_type": "code",
   "execution_count": 24,
   "metadata": {},
   "outputs": [],
   "source": [
    "path = 'E:\\PersonalFiles\\杂项\\Dissertation\\Data/diabetes_data.csv'\n",
    "\n",
    "def preprocess(path):\n",
    "    with open(path, 'r') as f:\n",
    "        df = pd.read_csv(path)\n",
    "    df['Gender'] = df['Gender'].replace('Male', 1)\n",
    "    df['Gender'] = df['Gender'].replace('Female', 0)\n",
    "    df.iloc[:, 2:] = df.iloc[:, 2:].replace({'Yes':1, 'No':0, 'Positive':1, 'Negative':0})\n",
    "    df.iloc[:, 0] = df.iloc[:, 0] / 90\n",
    "\n",
    "    x = df.iloc[:, :16]\n",
    "    y = df.iloc[:, 16]\n",
    "    return df, x, y\n",
    "\n",
    "df, x, y = preprocess(path)"
   ]
  },
  {
   "cell_type": "code",
   "execution_count": 25,
   "metadata": {},
   "outputs": [
    {
     "data": {
      "text/plain": [
       "(520, 17)"
      ]
     },
     "execution_count": 25,
     "metadata": {},
     "output_type": "execute_result"
    }
   ],
   "source": [
    "df.shape"
   ]
  },
  {
   "cell_type": "code",
   "execution_count": 26,
   "metadata": {},
   "outputs": [
    {
     "data": {
      "text/plain": [
       "0    1\n",
       "1    1\n",
       "2    1\n",
       "3    1\n",
       "4    1\n",
       "Name: class, dtype: int64"
      ]
     },
     "execution_count": 26,
     "metadata": {},
     "output_type": "execute_result"
    }
   ],
   "source": [
    "y.head()"
   ]
  },
  {
   "cell_type": "markdown",
   "metadata": {},
   "source": [
    "PCA降维"
   ]
  },
  {
   "cell_type": "code",
   "execution_count": 32,
   "metadata": {},
   "outputs": [
    {
     "data": {
      "image/png": "[encoded data removed]",
      "text/plain": [
       "<Figure size 432x288 with 1 Axes>"
      ]
     },
     "metadata": {
      "needs_background": "light"
     },
     "output_type": "display_data"
    }
   ],
   "source": [
    "n = range(1, 17)\n",
    "ls = []\n",
    "for i in range(1, 17):\n",
    "    pca = decomposition.PCA(i)\n",
    "    pca.fit(x)\n",
    "    ls.append(pca.explained_variance_ratio_.sum())\n",
    "plt.xlabel('n_components')\n",
    "plt.ylabel('information ratio')\n",
    "plt.title('reserved information ratio after PCA')\n",
    "plt.plot(n, ls)\n",
    "plt.grid()"
   ]
  },
  {
   "cell_type": "code",
   "execution_count": null,
   "metadata": {},
   "outputs": [],
   "source": []
  }
 ],
 "metadata": {
  "kernelspec": {
   "display_name": "base",
   "language": "python",
   "name": "python3"
  },
  "language_info": {
   "codemirror_mode": {
    "name": "ipython",
    "version": 3
   },
   "file_extension": ".py",
   "mimetype": "text/x-python",
   "name": "python",
   "nbconvert_exporter": "python",
   "pygments_lexer": "ipython3",
   "version": "3.8.5"
  }
 },
 "nbformat": 4,
 "nbformat_minor": 2
}
