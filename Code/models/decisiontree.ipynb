{
 "cells": [
  {
   "cell_type": "code",
   "execution_count": 1,
   "metadata": {},
   "outputs": [],
   "source": [
    "import data_prepare\n",
    "import numpy as np\n",
    "from sklearn import tree\n",
    "from sklearn.model_selection import GridSearchCV\n",
    "from sklearn.metrics import precision_score, recall_score, f1_score"
   ]
  },
  {
   "cell_type": "code",
   "execution_count": 8,
   "metadata": {},
   "outputs": [],
   "source": [
    "path = 'E:\\PersonalFiles\\杂项\\Dissertation\\Data/diabetes_data.csv'\n",
    "x_train, x_test, y_train, y_test = data_prepare.split_data(path)"
   ]
  },
  {
   "cell_type": "code",
   "execution_count": 9,
   "metadata": {},
   "outputs": [],
   "source": [
    "parameters = {'criterion':('gini','entropy','log_loss'),\n",
    "              'max_depth':range(2,10,1),\n",
    "              'min_samples_split':range(1,5,1),\n",
    "              'min_samples_leaf':range(1,5,1)}\n",
    "clf = tree.DecisionTreeClassifier()\n",
    "clf = GridSearchCV(clf, parameters, n_jobs=-1, scoring='accuracy', cv=5)"
   ]
  },
  {
   "cell_type": "code",
   "execution_count": 10,
   "metadata": {},
   "outputs": [
    {
     "name": "stdout",
     "output_type": "stream",
     "text": [
      "best params:\n",
      "\tcriterion: 'gini'\n",
      "\tmax_depth: 7\n",
      "\tmin_samples_leaf: 1\n",
      "\tmin_samples_split: 3\n",
      "training set results:\n",
      "\tprecision: 100.00\n",
      "\trecall: 98.66\n",
      "\tf1: 99.33\n",
      "testing set results:\n",
      "\tprecision: 98.95\n",
      "\trecall: 97.92\n",
      "\tf1: 98.43\n"
     ]
    }
   ],
   "source": [
    "data_prepare.print_best_score(clf, parameters, x_train, y_train, x_test, y_test)"
   ]
  },
  {
   "cell_type": "code",
   "execution_count": 5,
   "metadata": {},
   "outputs": [
    {
     "data": {
      "text/plain": [
       "0.9587899543378995"
      ]
     },
     "execution_count": 5,
     "metadata": {},
     "output_type": "execute_result"
    }
   ],
   "source": [
    "# test\n",
    "clf.best_score_"
   ]
  },
  {
   "cell_type": "code",
   "execution_count": 6,
   "metadata": {},
   "outputs": [
    {
     "name": "stdout",
     "output_type": "stream",
     "text": [
      "training set results:\n",
      "\taverage fit time: 9.65674\n",
      "\taverage inference time: 0.00400\n",
      "\taverage precision: 94.86\n",
      "\taverage recall: 95.67\n",
      "\taverage f1: 95.13\n",
      "testing set results:\n",
      "\tprecision: 97.87\n",
      "\trecall: 95.83\n",
      "\tf1: 96.84\n"
     ]
    }
   ],
   "source": [
    "clf = clf.fit(x_train, y_train)\n",
    "data_prepare.cross_val(clf, x_train, y_train, x_test, y_test)"
   ]
  },
  {
   "cell_type": "code",
   "execution_count": null,
   "metadata": {},
   "outputs": [],
   "source": []
  }
 ],
 "metadata": {
  "kernelspec": {
   "display_name": "base",
   "language": "python",
   "name": "python3"
  },
  "language_info": {
   "codemirror_mode": {
    "name": "ipython",
    "version": 3
   },
   "file_extension": ".py",
   "mimetype": "text/x-python",
   "name": "python",
   "nbconvert_exporter": "python",
   "pygments_lexer": "ipython3",
   "version": "3.8.5"
  }
 },
 "nbformat": 4,
 "nbformat_minor": 2
}
