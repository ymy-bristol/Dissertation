{
 "cells": [
  {
   "cell_type": "code",
   "execution_count": 1,
   "metadata": {},
   "outputs": [
    {
     "name": "stdout",
     "output_type": "stream",
     "text": [
      "True\n"
     ]
    }
   ],
   "source": [
    "import data_prepare\n",
    "import numpy as np\n",
    "import torch\n",
    "import torch.nn as nn\n",
    "from torch.utils.data import Dataset, DataLoader\n",
    "from sklearn.model_selection import KFold\n",
    "print(torch.cuda.is_available())"
   ]
  },
  {
   "cell_type": "code",
   "execution_count": 2,
   "metadata": {},
   "outputs": [],
   "source": [
    "path = 'E:\\PersonalFiles\\杂项\\Dissertation\\Data/diabetes_data.csv'\n",
    "x_train, x_test, y_train, y_test = data_prepare.split_data(path)"
   ]
  },
  {
   "cell_type": "code",
   "execution_count": 3,
   "metadata": {},
   "outputs": [],
   "source": [
    "class MyData(Dataset):\n",
    "    def __init__(self, x, y):\n",
    "        self.x = np.array(x)\n",
    "        self.y = np.array(y)\n",
    "        \n",
    "        self.x = torch.tensor(self.x, dtype=torch.float32)\n",
    "        self.y = torch.tensor(self.y, dtype=torch.float32)\n",
    "\n",
    "    def __getitem__(self, idx):\n",
    "        return self.x[idx], self.y[idx]\n",
    "    \n",
    "    def __len__(self):\n",
    "        return len(self.y)\n",
    "    \n",
    "train_set = MyData(x_train, y_train)\n",
    "test_set  = MyData(x_test,  y_test)\n",
    "\n",
    "batch_size = 60\n",
    "# train_loader = DataLoader(train_set, batch_size=batch_size, shuffle=True, drop_last=True)\n",
    "# test_loader  = DataLoader(test_set, batch_size=batch_size, drop_last=True)"
   ]
  },
  {
   "cell_type": "code",
   "execution_count": 4,
   "metadata": {},
   "outputs": [],
   "source": [
    "class Net(nn.Module):\n",
    "    def __init__(self):\n",
    "        super().__init__()\n",
    "        self.seq = nn.Sequential(\n",
    "            nn.Linear(16, 32),\n",
    "            nn.ReLU(),\n",
    "            nn.Linear(32, 64),\n",
    "            nn.ReLU(),\n",
    "            nn.Linear(64, 128),\n",
    "            nn.ReLU(),\n",
    "            nn.Linear(128, 1),\n",
    "            nn.Sigmoid()\n",
    "        )\n",
    "    def forward(self, x):\n",
    "        x = self.seq(x)\n",
    "        x = torch.squeeze(x, 1)\n",
    "        return x\n",
    "    \n",
    "net = Net()\n",
    "lr = 1e-2\n",
    "optimizer = torch.optim.Adam(net.parameters(), lr=lr)\n",
    "loss_fn = nn.BCELoss()"
   ]
  },
  {
   "cell_type": "code",
   "execution_count": 5,
   "metadata": {},
   "outputs": [
    {
     "name": "stdout",
     "output_type": "stream",
     "text": [
      "index of KFold: 0\n",
      "epoch: 0, loss: 2.68,              accuracy on training set: 65.83\n",
      "epoch: 1, loss: 1.87,              accuracy on training set: 82.92\n",
      "epoch: 2, loss: 0.97,              accuracy on training set: 91.25\n",
      "epoch: 3, loss: 0.62,              accuracy on training set: 92.50\n",
      "epoch: 4, loss: 0.77,              accuracy on training set: 93.33\n",
      "epoch: 5, loss: 0.74,              accuracy on training set: 93.33\n",
      "epoch: 6, loss: 0.53,              accuracy on training set: 94.17\n",
      "epoch: 7, loss: 0.47,              accuracy on training set: 95.83\n",
      "epoch: 8, loss: 0.30,              accuracy on training set: 98.33\n",
      "epoch: 9, loss: 0.39,              accuracy on training set: 96.67\n",
      "epoch: 10, loss: 0.27,              accuracy on training set: 97.92\n",
      "epoch: 11, loss: 0.29,              accuracy on training set: 97.50\n",
      "epoch: 12, loss: 0.22,              accuracy on training set: 99.17\n",
      "epoch: 13, loss: 0.24,              accuracy on training set: 98.33\n",
      "epoch: 14, loss: 0.22,              accuracy on training set: 98.33\n",
      "epoch: 15, loss: 0.21,              accuracy on training set: 98.33\n",
      "epoch: 16, loss: 0.18,              accuracy on training set: 98.75\n",
      "epoch: 17, loss: 0.17,              accuracy on training set: 98.33\n",
      "epoch: 18, loss: 0.16,              accuracy on training set: 98.33\n",
      "epoch: 19, loss: 0.16,              accuracy on training set: 97.92\n",
      "index of KFold: 1\n",
      "epoch: 0, loss: 0.51,              accuracy on training set: 95.83\n",
      "epoch: 1, loss: 0.33,              accuracy on training set: 95.42\n",
      "epoch: 2, loss: 0.29,              accuracy on training set: 97.92\n",
      "epoch: 3, loss: 0.25,              accuracy on training set: 98.75\n",
      "epoch: 4, loss: 0.24,              accuracy on training set: 97.92\n",
      "epoch: 5, loss: 0.14,              accuracy on training set: 98.33\n",
      "epoch: 6, loss: 0.13,              accuracy on training set: 98.33\n",
      "epoch: 7, loss: 0.17,              accuracy on training set: 97.50\n",
      "epoch: 8, loss: 0.03,              accuracy on training set: 100.00\n",
      "epoch: 9, loss: 0.18,              accuracy on training set: 98.33\n",
      "epoch: 10, loss: 0.06,              accuracy on training set: 99.58\n",
      "epoch: 11, loss: 0.07,              accuracy on training set: 99.17\n",
      "epoch: 12, loss: 0.08,              accuracy on training set: 97.92\n",
      "epoch: 13, loss: 0.04,              accuracy on training set: 99.58\n",
      "epoch: 14, loss: 0.06,              accuracy on training set: 99.17\n",
      "epoch: 15, loss: 0.04,              accuracy on training set: 99.58\n",
      "epoch: 16, loss: 0.13,              accuracy on training set: 97.92\n",
      "epoch: 17, loss: 0.06,              accuracy on training set: 99.17\n",
      "epoch: 18, loss: 0.06,              accuracy on training set: 98.33\n",
      "epoch: 19, loss: 0.06,              accuracy on training set: 98.33\n",
      "index of KFold: 2\n",
      "epoch: 0, loss: 0.05,              accuracy on training set: 99.17\n",
      "epoch: 1, loss: 0.05,              accuracy on training set: 99.17\n",
      "epoch: 2, loss: 0.03,              accuracy on training set: 100.00\n",
      "epoch: 3, loss: 0.05,              accuracy on training set: 99.17\n",
      "epoch: 4, loss: 0.03,              accuracy on training set: 99.58\n",
      "epoch: 5, loss: 0.05,              accuracy on training set: 99.17\n",
      "epoch: 6, loss: 0.04,              accuracy on training set: 99.17\n",
      "epoch: 7, loss: 0.01,              accuracy on training set: 100.00\n",
      "epoch: 8, loss: 0.04,              accuracy on training set: 99.58\n",
      "epoch: 9, loss: 0.03,              accuracy on training set: 99.58\n",
      "epoch: 10, loss: 0.05,              accuracy on training set: 99.17\n",
      "epoch: 11, loss: 0.05,              accuracy on training set: 98.75\n",
      "epoch: 12, loss: 0.05,              accuracy on training set: 98.33\n",
      "epoch: 13, loss: 0.03,              accuracy on training set: 99.17\n",
      "epoch: 14, loss: 0.05,              accuracy on training set: 99.17\n",
      "epoch: 15, loss: 0.04,              accuracy on training set: 99.58\n",
      "epoch: 16, loss: 0.04,              accuracy on training set: 99.58\n",
      "epoch: 17, loss: 0.06,              accuracy on training set: 98.75\n",
      "epoch: 18, loss: 0.06,              accuracy on training set: 99.17\n",
      "epoch: 19, loss: 0.03,              accuracy on training set: 99.17\n",
      "index of KFold: 3\n",
      "epoch: 0, loss: 0.07,              accuracy on training set: 99.17\n",
      "epoch: 1, loss: 0.06,              accuracy on training set: 99.58\n",
      "epoch: 2, loss: 0.01,              accuracy on training set: 100.00\n",
      "epoch: 3, loss: 0.03,              accuracy on training set: 99.58\n",
      "epoch: 4, loss: 0.04,              accuracy on training set: 99.58\n",
      "epoch: 5, loss: 0.02,              accuracy on training set: 100.00\n",
      "epoch: 6, loss: 0.04,              accuracy on training set: 99.58\n",
      "epoch: 7, loss: 0.01,              accuracy on training set: 100.00\n",
      "epoch: 8, loss: 0.00,              accuracy on training set: 100.00\n",
      "epoch: 9, loss: 0.08,              accuracy on training set: 99.58\n",
      "epoch: 10, loss: 0.06,              accuracy on training set: 99.58\n",
      "epoch: 11, loss: 0.03,              accuracy on training set: 99.58\n",
      "epoch: 12, loss: 0.05,              accuracy on training set: 99.58\n",
      "epoch: 13, loss: 0.04,              accuracy on training set: 99.58\n",
      "epoch: 14, loss: 0.04,              accuracy on training set: 99.58\n",
      "epoch: 15, loss: 0.05,              accuracy on training set: 99.58\n",
      "epoch: 16, loss: 0.06,              accuracy on training set: 99.58\n",
      "epoch: 17, loss: 0.04,              accuracy on training set: 99.58\n",
      "epoch: 18, loss: 0.04,              accuracy on training set: 99.58\n",
      "epoch: 19, loss: 0.05,              accuracy on training set: 99.58\n",
      "index of KFold: 4\n",
      "epoch: 0, loss: 0.04,              accuracy on training set: 99.58\n",
      "epoch: 1, loss: 0.04,              accuracy on training set: 99.58\n",
      "epoch: 2, loss: 0.01,              accuracy on training set: 100.00\n",
      "epoch: 3, loss: 0.05,              accuracy on training set: 99.58\n",
      "epoch: 4, loss: 0.05,              accuracy on training set: 99.58\n",
      "epoch: 5, loss: 0.04,              accuracy on training set: 99.58\n",
      "epoch: 6, loss: 0.05,              accuracy on training set: 99.58\n",
      "epoch: 7, loss: 0.04,              accuracy on training set: 99.58\n",
      "epoch: 8, loss: 0.04,              accuracy on training set: 99.58\n",
      "epoch: 9, loss: 0.04,              accuracy on training set: 99.58\n",
      "epoch: 10, loss: 0.04,              accuracy on training set: 99.58\n",
      "epoch: 11, loss: 0.01,              accuracy on training set: 100.00\n",
      "epoch: 12, loss: 0.04,              accuracy on training set: 99.58\n",
      "epoch: 13, loss: 0.05,              accuracy on training set: 99.58\n",
      "epoch: 14, loss: 0.06,              accuracy on training set: 99.58\n",
      "epoch: 15, loss: 0.05,              accuracy on training set: 99.58\n",
      "epoch: 16, loss: 0.06,              accuracy on training set: 99.58\n",
      "epoch: 17, loss: 0.05,              accuracy on training set: 99.58\n",
      "epoch: 18, loss: 0.04,              accuracy on training set: 99.58\n",
      "epoch: 19, loss: 0.04,              accuracy on training set: 99.58\n"
     ]
    }
   ],
   "source": [
    "epochs = 20\n",
    "kf = KFold(n_splits=5)\n",
    "\n",
    "for i, (train_idx, test_idx) in enumerate(kf.split(train_set)):\n",
    "    train_data = [train_set[i] for i in train_idx]\n",
    "    test_data = [train_set[i] for i in test_idx]\n",
    "    train_loader = DataLoader(train_data, batch_size=batch_size, shuffle=True, drop_last=True)\n",
    "    test_loader  = DataLoader(test_data, batch_size=batch_size, drop_last=True)\n",
    "\n",
    "    print(f'index of KFold: {i}')\n",
    "    for e in range(epochs):\n",
    "        true_num = 0\n",
    "        total_num = 0\n",
    "        training_loss = 0.\n",
    "        for idx, (data, target) in enumerate(train_loader):\n",
    "            output = net(data)\n",
    "            # print(output.shape, data.shape, target.shape)\n",
    "            loss = loss_fn(output, target)\n",
    "            training_loss += loss\n",
    "\n",
    "            loss.backward()\n",
    "            optimizer.step()\n",
    "            optimizer.zero_grad()\n",
    "\n",
    "            total_num += len(target)\n",
    "\n",
    "            true_num += ((output > 0.5) == (target > 0.5)).sum().item()\n",
    "\n",
    "        # print(true_num)\n",
    "        \n",
    "        print(f'epoch: {e}, loss: {training_loss:.2f},\\\n",
    "              accuracy on training set: {true_num/total_num*100 :.2f}')"
   ]
  },
  {
   "cell_type": "code",
   "execution_count": 6,
   "metadata": {},
   "outputs": [
    {
     "name": "stdout",
     "output_type": "stream",
     "text": [
      "accuracy on testing set: 99.33\n"
     ]
    }
   ],
   "source": [
    "for idx, (data, target) in enumerate(test_loader):\n",
    "    output = net(data)\n",
    "    # print(output.shape, data.shape, target.shape)\n",
    "    total_num += len(target)\n",
    "\n",
    "    true_num += ((output > 0.5) == (target > 0.5)).sum().item()\n",
    "\n",
    "# print(true_num)\n",
    "\n",
    "print(f'accuracy on testing set: {true_num/total_num*100 :.2f}')"
   ]
  },
  {
   "cell_type": "code",
   "execution_count": 9,
   "metadata": {},
   "outputs": [
    {
     "data": {
      "text/plain": [
       "0.9265785609397944"
      ]
     },
     "execution_count": 9,
     "metadata": {},
     "output_type": "execute_result"
    }
   ],
   "source": [
    "x = 100 - 93.19\n",
    "y = 100 - 99.50\n",
    "(x-y)/x"
   ]
  },
  {
   "cell_type": "code",
   "execution_count": 13,
   "metadata": {},
   "outputs": [
    {
     "data": {
      "text/plain": [
       "92.09999999999998"
      ]
     },
     "execution_count": 13,
     "metadata": {},
     "output_type": "execute_result"
    }
   ],
   "source": [
    "( 89.40+ 94.24+ 92.66)/3"
   ]
  },
  {
   "cell_type": "code",
   "execution_count": null,
   "metadata": {},
   "outputs": [],
   "source": []
  },
  {
   "cell_type": "code",
   "execution_count": null,
   "metadata": {},
   "outputs": [],
   "source": []
  }
 ],
 "metadata": {
  "kernelspec": {
   "display_name": "base",
   "language": "python",
   "name": "python3"
  },
  "language_info": {
   "codemirror_mode": {
    "name": "ipython",
    "version": 3
   },
   "file_extension": ".py",
   "mimetype": "text/x-python",
   "name": "python",
   "nbconvert_exporter": "python",
   "pygments_lexer": "ipython3",
   "version": "3.9.15"
  }
 },
 "nbformat": 4,
 "nbformat_minor": 2
}
