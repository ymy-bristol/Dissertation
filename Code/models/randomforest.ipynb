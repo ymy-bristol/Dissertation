{
 "cells": [
  {
   "cell_type": "code",
   "execution_count": 2,
   "metadata": {},
   "outputs": [],
   "source": [
    "import data_prepare\n",
    "import numpy as np\n",
    "from sklearn.ensemble import RandomForestClassifier\n",
    "from sklearn.model_selection import GridSearchCV\n",
    "from sklearn.metrics import precision_score, recall_score, f1_score\n",
    "\n",
    "path = 'E:\\PersonalFiles\\杂项\\Dissertation\\Data/diabetes_data.csv'\n",
    "x_train, x_test, y_train, y_test = data_prepare.split_data(path)"
   ]
  },
  {
   "cell_type": "code",
   "execution_count": 3,
   "metadata": {},
   "outputs": [],
   "source": [
    "parameters = {'criterion':('gini','entropy','log_loss'),\n",
    "              'max_depth':range(2,10,1),\n",
    "              'min_samples_split':range(1,5,1),\n",
    "              'min_samples_leaf':range(1,5,1)}\n",
    "clf = RandomForestClassifier()\n",
    "clf = GridSearchCV(clf, parameters, n_jobs=-1, scoring='accuracy', cv=5)"
   ]
  },
  {
   "cell_type": "code",
   "execution_count": 4,
   "metadata": {},
   "outputs": [
    {
     "name": "stdout",
     "output_type": "stream",
     "text": [
      "best params:\n",
      "\tcriterion: 'gini'\n",
      "\tmax_depth: 9\n",
      "\tmin_samples_leaf: 1\n",
      "\tmin_samples_split: 2\n",
      "training set results:\n",
      "\tprecision: 100.00\n",
      "\trecall: 100.00\n",
      "\tf1: 100.00\n",
      "testing set results:\n",
      "\tprecision: 100.00\n",
      "\trecall: 97.92\n",
      "\tf1: 98.95\n"
     ]
    }
   ],
   "source": [
    "data_prepare.print_best_score(clf, parameters, x_train, y_train, x_test, y_test)"
   ]
  },
  {
   "cell_type": "code",
   "execution_count": 5,
   "metadata": {},
   "outputs": [
    {
     "data": {
      "text/plain": [
       "0.969710806697108"
      ]
     },
     "execution_count": 5,
     "metadata": {},
     "output_type": "execute_result"
    }
   ],
   "source": [
    "# test\n",
    "clf.best_score_"
   ]
  },
  {
   "cell_type": "code",
   "execution_count": 6,
   "metadata": {},
   "outputs": [
    {
     "name": "stdout",
     "output_type": "stream",
     "text": [
      "training set results:\n",
      "\taverage fit time: 275.76712\n",
      "\taverage inference time: 0.01500\n",
      "\taverage precision: 95.22\n",
      "\taverage recall: 95.14\n",
      "\taverage f1: 95.08\n",
      "testing set results:\n",
      "\tprecision: 100.00\n",
      "\trecall: 98.96\n",
      "\tf1: 99.48\n"
     ]
    }
   ],
   "source": [
    "clf = clf.fit(x_train, y_train)\n",
    "data_prepare.cross_val(clf, x_train, y_train, x_test, y_test)"
   ]
  },
  {
   "cell_type": "code",
   "execution_count": null,
   "metadata": {},
   "outputs": [],
   "source": []
  },
  {
   "cell_type": "code",
   "execution_count": null,
   "metadata": {},
   "outputs": [],
   "source": []
  }
 ],
 "metadata": {
  "kernelspec": {
   "display_name": "base",
   "language": "python",
   "name": "python3"
  },
  "language_info": {
   "codemirror_mode": {
    "name": "ipython",
    "version": 3
   },
   "file_extension": ".py",
   "mimetype": "text/x-python",
   "name": "python",
   "nbconvert_exporter": "python",
   "pygments_lexer": "ipython3",
   "version": "3.8.5"
  }
 },
 "nbformat": 4,
 "nbformat_minor": 2
}
